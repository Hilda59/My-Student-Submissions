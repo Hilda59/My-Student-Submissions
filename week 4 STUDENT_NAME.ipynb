{
 "cells": [
  {
   "attachments": {},
   "cell_type": "markdown",
   "metadata": {},
   "source": [
    "## Lab Assignment: Introduction to Pandas\n",
    "Student:     **Hilda Michael**\n",
    "\n",
    "### Objective: To introduce data manipulation and analysis in Python using Pandas and understand Pandas data structures and basic operations.\n",
    "\n",
    "### Instructions:\n",
    "In this lab assignment, you will be introduced to data manipulation and analysis in Python using Pandas. You will learn how to create and manipulate Pandas data structures, perform basic data analysis and cleaning operations, and apply built-in functions to analyze and transform the data.\n",
    "\n",
    "You will be provided with the following five problems to solve. Please read the problem statement carefully and implement the solution using Pandas.\n",
    "\n",
    "1. Read a CSV file into a Pandas DataFrame.\n",
    "2. Display the first 5 rows of a Pandas DataFrame.\n",
    "3. Display the last 5 rows of a Pandas DataFrame.\n",
    "4. Create a new column in a Pandas DataFrame by combining two existing columns.\n",
    "5. Group a Pandas DataFrame by a specific column and calculate the mean of another column for each group.\n",
    "\n",
    "### Deliverable:\n",
    "Modify this notebook to include the python code as well as any documentation related to your submission.  Submit the notebook as your response in Blackboard.\n",
    "\n",
    "### Grading Criteria:\n",
    "\n",
    "Your lab assignment will be graded based on the following criteria:\n",
    "\n",
    "- Correctness of the implementation\n",
    "- Proper use of basic control structures and functions\n",
    "- Code efficiency\n",
    "- Clarity and readability of the code\n",
    "- Compliance with the instructions and deliverables.\n",
    "\n",
    "### Student Submission\n",
    "1.  Read a CSV file into a Pandas DataFrame."
   ]df = pd.read_csv('file_name.csv', index_col='Column1')
  },
  {
    "\n"
   ]
  },
  {
   
    "2.  Display the first 5 rows of a Pandas DataFrame."
   import pandas as pd
df = pd.read_csv('path_to_your_file.csv')

data = {'Column1': [1, 2, 3, 4, 5], 'Column2': ['A', 'B', 'C', 'D', 'E']}
df = pd.DataFrame(data)
print(df.head())
print(df.head(3))
df.head()
  Column1 Column2
0        1       A
1        2       B
2        3       C
3        4       D
4        5       E

   "source": [
    "3.  Display the last 5 rows of a Pandas DataFrame."
  import pandas as pd 
 data = {
    'Name': ['John', 'Mark', 'Alice', 'Julie', 'Lisa', 'David'],
    'Age': [23, 34, 45, 19, 28, 31],
    'Gender': ['M', 'M', 'F', 'F', 'F', 'M']
}
df = pd.DataFrame(data)
last_five_rows = df.tail()
print(last_five_rows)

      Name  Age Gender
1   Mark   34      M
2  Alice   45      F
3  Julie   19      F
4   Lisa   28      F
5  David   31      M
df.tail(5)
    "4.  Create a new column in a Pandas DataFrame by combining two existing columns."
   pip install pandas
import pandas as pd
data = {
    'First Name': ['John', 'Jane', 'Alice'],
    'Last Name': ['Doe', 'Smith', 'Johnson']
}

df = pd.DataFrame(data)
df['Full Name'] = df['First Name'] + ' ' + df['Last Name']
print(df)
 First Name Last Name     Full Name
0       John       Doe      John Doe
1       Jane     Smith    Jane Smith
2     Alice   Johnson  Alice Johnson


    "5.  Group a Pandas DataFrame by a specific column and calculate the mean of another column for each group."
   data = 
    'Product': ['A', 'B', 'A', 'B', 'C', 'A', 'C'],
    'Sales': [100, 200, 150, 300, 250, 400, 350]


df = pd.DataFrame(data)
}grouped_df = df.groupby('Product')['Sales'].mean()
result_df = grouped_df.reset_index()
result_df.columns = ['Product', 'Mean_Sales']
  Product  Mean_Sales
0       A       216.67
1       B       250.00
2       C       300.00
