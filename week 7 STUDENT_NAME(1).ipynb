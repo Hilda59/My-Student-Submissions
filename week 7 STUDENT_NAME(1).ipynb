{
 "cells": [
  {
   "attachments": {},
   "cell_type": "markdown",
   "metadata": {},
   "source": [
    "## Lab Assignment: Exploratory Data Analysis\n",
    "Student:     **Hilda_Michael**\n",
    "\n",
    "### Objective: To gain an understanding of exploratory data analysis (EDA) techniques and their application using Pandas, Pandas Profiling, and Matplotlib.\n",
    "\n",
    "### Instructions:\n",
    "\n",
    "1. Load the dataset titanic.csv using Pandas and display the first 5 rows.\n",
    "2. Calculate the summary statistics of the dataset and display them.\n",
    "3. Visualize the distribution of the target variable using a bar chart.\n",
    "4. Visualize the distribution of the target variable by class using a stacked bar chart.\n",
    "5. Plot a histogram to visualize the distribution of age.\n",
    "6. Create a scatter plot to visualize the relationship between age and fare.\n",
    "7. Use Pandas profiling to generate a detailed report of the dataset.\n",
    "8. Identify and visualize any missing values in the dataset.\n",
    "9. Identify and visualize any outliers in the dataset.\n",
    "10. Identify and visualize any correlations between variables in the dataset.\n",
    "\n",
    "### Deliverable:\n",
    "Modify this notebook to include the python code as well as any documentation related to your submission.  Submit the notebook as your response in Blackboard.\n",
    "\n",
    "### Grading Criteria:\n",
    "\n",
    "Your lab assignment will be graded based on the following criteria:\n",
    "\n",
    "- Correctness of the implementation\n",
    "- Proper use of basic control structures and functions\n",
    "- Code efficiency\n",
    "- Clarity and readability of the code\n",
    "- Compliance with the instructions and deliverables.\n",
    "\n",
    "### Dataset\n",
    "The dataset to be used for this lab assignment is the Titanic dataset, which contains information about passengers on the Titanic, including their demographics, ticket information, and survival status. The dataset can be downloaded from Kaggle: https://www.kaggle.com/c/titanic/data\n",
    "\n",
    "You can load the dataset using the following code:"
   ]
  },
  {
   "cell_type": "code",
   "execution_count": 1,
   "metadata": {},
   "outputs": [
    {
     "data": {
      "text/plain": [
       "survived       891\n",
       "pclass         891\n",
       "sex            891\n",
       "age            714\n",
       "sibsp          891\n",
       "parch          891\n",
       "fare           891\n",
       "embarked       889\n",
       "class          891\n",
       "who            891\n",
       "adult_male     891\n",
       "deck           203\n",
       "embark_town    889\n",
       "alive          891\n",
       "alone          891\n",
       "dtype: int64"
      ]
     },
     "execution_count": 1,
     "metadata": {},
     "output_type": "execute_result"
    }
   ],
   "source": [
    "\n",
    "import seaborn as sns\n",
    "\n",
    "# Load the Titanic dataset from Seaborn\n",
    "titanic = sns.load_dataset('titanic')\n",
    "titanic.count()\n"
  
import pandas as pd

# Load the dataset
titanic_df = pd.read_csv('titanic.csv')

# Display the first 5 rows
print(titanic_df.head())
# Summary statistics
summary_statistics = titanic_df.describe()
print(summary_statistics)
# Calculate summary statistics
summary_statistics = df.describe(include='all')
print(summary_statistics)
import matplotlib.pyplot as plt

# Visualize distribution of target variable
df['survived'].value_counts().plot(kind='bar')
plt.title('Distribution of Survival')
plt.xlabel('Survived (0 = No, 1 = Yes)')
plt.ylabel('Count')
plt.show()
# Visualize distribution by class
pd.crosstab(df['pclass'], df['survived']).plot(kind='bar', stacked=True)
plt.title('Survival Distribution by Class')
plt.xlabel('Passenger Class')
plt.ylabel('Count')
plt.legend(title='Survived', labels=['No', 'Yes'])
plt.show()
# Plot histogram for age distribution
df['age'].hist(bins=30)
plt.title('Age Distribution')
plt.xlabel('Age')
plt.ylabel('Frequency')
plt.show()
# Create scatter plot for age vs fare
plt.scatter(df['age'], df['fare'])
plt.title('Scatter Plot of Age vs Fare')
plt.xlabel('Age')
plt.ylabel('Fare')
plt.show()
from pandas_profiling import ProfileReport

# Generate profile report
profile = ProfileReport(df)
profile.to_file("titanic_report.html")

import matplotlib.pyplot as plt

# Bar chart for target variable
titanic_df['Survived'].value_counts().plot(kind='bar')
plt.title('Distribution of Survival')
plt.xlabel('Survived')
plt.ylabel('Count')
plt.xticks([0, 1], ['No', 'Yes'], rotation=0)
plt.show()

import seaborn as sns

# Visualize missing values using heatmap
sns.heatmap(df.isnull(), cbar=False)
plt.title('Missing Values Heatmap')
plt.show()

# Boxplot for fare to identify outliers
sns.boxplot(x=df['fare'])
plt.title('Boxplot of Fare to Identify Outliers')
plt.show()
# Correlation matrix visualization using heatmap
correlation_matrix = df.corr()
sns.heatmap(correlation_matrix, annot=True)
plt.title('Correlation Matrix Heatmap')
plt.show()
