{
 "cells": [
  {
   "attachments": {},
   "cell_type": "markdown",
   "metadata": {},
   "source": [
    "## Lab Assignment: Exploratory Data Analysis\n",
    "Student:     **INSERT YOUR NAME HERE**\n",
    "\n",
    "### Objective: To gain an understanding of exploratory data analysis (EDA) techniques and their application using Pandas, Pandas Profiling, and Matplotlib.\n",
    "\n",
    "### Instructions:\n",
    "\n",
    "1. Load the dataset titanic.csv using Pandas and display the first 5 rows.\n",
    "2. Calculate the summary statistics of the dataset and display them.\n",
    "3. Visualize the distribution of the target variable using a bar chart.\n",
    "4. Visualize the distribution of the target variable by class using a stacked bar chart.\n",
    "5. Plot a histogram to visualize the distribution of age.\n",
    "6. Create a scatter plot to visualize the relationship between age and fare.\n",
    "7. Use Pandas profiling to generate a detailed report of the dataset.\n",
    "8. Identify and visualize any missing values in the dataset.\n",
    "9. Identify and visualize any outliers in the dataset.\n",
    "10. Identify and visualize any correlations between variables in the dataset.\n",
    "\n",
    "### Deliverable:\n",
    "Modify this notebook to include the python code as well as any documentation related to your submission.  Submit the notebook as your response in Blackboard.\n",
    "\n",
    "### Grading Criteria:\n",
    "\n",
    "Your lab assignment will be graded based on the following criteria:\n",
    "\n",
    "- Correctness of the implementation\n",
    "- Proper use of basic control structures and functions\n",
    "- Code efficiency\n",
    "- Clarity and readability of the code\n",
    "- Compliance with the instructions and deliverables.\n",
    "\n",
    "### Dataset\n",
    "The dataset to be used for this lab assignment is the Titanic dataset, which contains information about passengers on the Titanic, including their demographics, ticket information, and survival status. The dataset can be downloaded from Kaggle: https://www.kaggle.com/c/titanic/data\n",
    "\n",
    "You can load the dataset using the following code:"
   ]
  },
  {
   "cell_type": "code",
   "execution_count": 1,
   "metadata": {},
   "outputs": [
    {
     "data": {
      "text/plain": [
       "survived       891\n",
       "pclass         891\n",
       "sex            891\n",
       "age            714\n",
       "sibsp          891\n",
       "parch          891\n",
       "fare           891\n",
       "embarked       889\n",
       "class          891\n",
       "who            891\n",
       "adult_male     891\n",
       "deck           203\n",
       "embark_town    889\n",
       "alive          891\n",
       "alone          891\n",
       "dtype: int64"
      ]
     },
     "execution_count": 1,
     "metadata": {},
     "output_type": "execute_result"
    }
   ],
   "source": [
    "\n",
    "import seaborn as sns\n",
    "\n",
    "# Load the Titanic dataset from Seaborn\n",
    "titanic = sns.load_dataset('titanic')\n",
    "titanic.count()\n"
   ]
  },
  {
   "attachments": {},
   "cell_type": "markdown",
   "metadata": {},
   "source": [
    "Student Submission:"
   ]
  },
  {
   "cell_type": "code",
   "execution_count": null,
   "metadata": {},
   "outputs": [],
   "source": []
  }
 ],
 "metadata": {
  "kernelspec": {
   "display_name": "Python 3",
   "language": "python",
   "name": "python3"
  },
  "language_info": {
   "codemirror_mode": {
    "name": "ipython",
    "version": 3
   },
   "file_extension": ".py",
   "mimetype": "text/x-python",
   "name": "python",
   "nbconvert_exporter": "python",
   "pygments_lexer": "ipython3",
   "version": "3.11.4"
  },
  "orig_nbformat": 4
 },
 "nbformat": 4,
 "nbformat_minor": 2
}
